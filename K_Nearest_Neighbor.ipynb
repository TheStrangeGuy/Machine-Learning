{
  "nbformat": 4,
  "nbformat_minor": 0,
  "metadata": {
    "colab": {
      "provenance": [],
      "mount_file_id": "1608lxSKD37jj97f3U_Aj8BJvrTKPPRqm",
      "authorship_tag": "ABX9TyODnoAshJUr53qowos7QVB4",
      "include_colab_link": true
    },
    "kernelspec": {
      "name": "python3",
      "display_name": "Python 3"
    },
    "language_info": {
      "name": "python"
    }
  },
  "cells": [
    {
      "cell_type": "markdown",
      "metadata": {
        "id": "view-in-github",
        "colab_type": "text"
      },
      "source": [
        "<a href=\"https://colab.research.google.com/github/TheStrangeGuy/Machine-Learning/blob/main/K_Nearest_Neighbor.ipynb\" target=\"_parent\"><img src=\"https://colab.research.google.com/assets/colab-badge.svg\" alt=\"Open In Colab\"/></a>"
      ]
    },
    {
      "cell_type": "code",
      "execution_count": null,
      "metadata": {
        "colab": {
          "base_uri": "https://localhost:8080/"
        },
        "id": "1dWXOGLBri8F",
        "outputId": "5088af9d-b324-4df8-e5d8-92794e7b0248"
      },
      "outputs": [
        {
          "output_type": "stream",
          "name": "stdout",
          "text": [
            "Mounted at /content/drive\n"
          ]
        }
      ],
      "source": [
        "from google.colab import drive\n",
        "drive.mount('/content/drive')"
      ]
    },
    {
      "cell_type": "code",
      "source": [
        "from sklearn.neighbors import KNeighborsClassifier\n",
        "from sklearn.model_selection import train_test_split\n",
        "from sklearn.metrics import accuracy_score,confusion_matrix,r2_score,mean_squared_error,mean_absolute_error\n",
        "import numpy as np\n",
        "from sklearn.metrics import classification_report\n",
        "import matplotlib.pyplot as plt\n",
        "import pandas as pd\n",
        "import sklearn\n",
        "import seaborn as sns"
      ],
      "metadata": {
        "id": "TcEQCsbPs6rW"
      },
      "execution_count": null,
      "outputs": []
    },
    {
      "cell_type": "code",
      "source": [
        "dataset = pd.read_csv('/content/drive/MyDrive/DS/Social_Network_Ads.csv')\n",
        "X = dataset.iloc[:, [1, 2, 3]].values\n",
        "y = dataset.iloc[:, -1].values\n",
        "# print(dataset)\n",
        "\n",
        "from sklearn.preprocessing import StandardScaler\n",
        "sc = StandardScaler()\n",
        "X_train = sc.fit_transform(X_train)\n",
        "X_test = sc.transform(X_test)\n",
        "\n",
        "from sklearn.neighbors import KNeighborsClassifier\n",
        "classifier = KNeighborsClassifier(n_neighbors=5,metric ='minkowski',p=2)\n",
        "classifier.fit(X_train, y_train)\n",
        "\n",
        "y_pred = classifier.predict(X_test)\n",
        "y_pred_train=classifier.predict(X_train)\n",
        "y_pred_test=classifier.predict(X_test)\n",
        "\n",
        "from sklearn.metrics import confusion_matrix,accuracy_score,r2_score,mean_squared_error,mean_absolute_error\n",
        "cm = confusion_matrix(y_test, y_pred)\n",
        "ac = accuracy_score(y_test,y_pred)\n",
        "print(\"accuracy score:\",ac)\n",
        "print(\"confusion matrix:\")\n",
        "print(cm)\n",
        "\n",
        "print(\"r2_score\",r2_score(y_test,y_pred))\n",
        "print(\"MSE\",mean_squared_error(y_test,y_pred))\n",
        "print(\"ME\",np.sqrt(mean_squared_error(y_test,y_pred)))\n",
        "print(\"MAE\",mean_absolute_error(y_test,y_pred))\n",
        "\n",
        "print()\n",
        "print(\"Model Score Traning Data:\",classifier.score(X_train,y_train)*100)\n",
        "print(\"Model Score Test Data:\",classifier.score(X_test,y_test)*100)\n",
        "\n",
        "from sklearn.metrics import classification_report\n",
        "print(\"classification_report for training set:\")\n",
        "print(classification_report(y_train, y_pred_train))\n",
        "\n",
        "print(\"classification_report for test set:\")\n",
        "print(classification_report(y_test, y_pred_test))"
      ],
      "metadata": {
        "colab": {
          "base_uri": "https://localhost:8080/"
        },
        "id": "IOnTTALXtgTS",
        "outputId": "431e4e0e-acbc-49e2-c3e4-4046c5c258ac"
      },
      "execution_count": null,
      "outputs": [
        {
          "output_type": "stream",
          "name": "stdout",
          "text": [
            "accuracy score: 0.95\n",
            "confusion matrix:\n",
            "[[55  3]\n",
            " [ 1 21]]\n",
            "r2_score 0.7492163009404389\n",
            "MSE 0.05\n",
            "ME 0.22360679774997896\n",
            "MAE 0.05\n",
            "\n",
            "Model Score Traning Data: 90.9375\n",
            "Model Score Test Data: 95.0\n",
            "classification_report for training set:\n",
            "              precision    recall  f1-score   support\n",
            "\n",
            "           0       0.94      0.91      0.93       199\n",
            "           1       0.87      0.90      0.88       121\n",
            "\n",
            "    accuracy                           0.91       320\n",
            "   macro avg       0.90      0.91      0.90       320\n",
            "weighted avg       0.91      0.91      0.91       320\n",
            "\n",
            "classification_report for test set:\n",
            "              precision    recall  f1-score   support\n",
            "\n",
            "           0       0.98      0.95      0.96        58\n",
            "           1       0.88      0.95      0.91        22\n",
            "\n",
            "    accuracy                           0.95        80\n",
            "   macro avg       0.93      0.95      0.94        80\n",
            "weighted avg       0.95      0.95      0.95        80\n",
            "\n"
          ]
        }
      ]
    }
  ]
}